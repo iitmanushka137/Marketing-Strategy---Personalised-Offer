{
 "cells": [
  {
   "cell_type": "code",
   "execution_count": 1,
   "id": "9c10c1c4",
   "metadata": {
    "_cell_guid": "b1076dfc-b9ad-4769-8c92-a6c4dae69d19",
    "_kg_hide-input": false,
    "_uuid": "8f2839f25d086af736a60e9eeb907d3b93b6e0e5",
    "execution": {
     "iopub.execute_input": "2022-12-18T17:39:27.446111Z",
     "iopub.status.busy": "2022-12-18T17:39:27.445328Z",
     "iopub.status.idle": "2022-12-18T17:39:27.466507Z",
     "shell.execute_reply": "2022-12-18T17:39:27.465258Z"
    },
    "papermill": {
     "duration": 0.040142,
     "end_time": "2022-12-18T17:39:27.469353",
     "exception": false,
     "start_time": "2022-12-18T17:39:27.429211",
     "status": "completed"
    },
    "tags": []
   },
   "outputs": [
    {
     "name": "stdout",
     "output_type": "stream",
     "text": [
      "/kaggle/input/marketing-strategy-personalised-offer/sample.csv\n",
      "/kaggle/input/marketing-strategy-personalised-offer/train_data.csv\n",
      "/kaggle/input/marketing-strategy-personalised-offer/test_data.csv\n",
      "/kaggle/input/dataset/sample.csv\n",
      "/kaggle/input/dataset/train_data.csv\n",
      "/kaggle/input/dataset/test_data.csv\n"
     ]
    }
   ],
   "source": [
    "# This Python 3 environment comes with many helpful analytics libraries installed\n",
    "# It is defined by the kaggle/python Docker image: https://github.com/kaggle/docker-python\n",
    "# For example, here's several helpful packages to load\n",
    "\n",
    "import numpy as np # linear algebra\n",
    "import pandas as pd # data processing, CSV file I/O (e.g. pd.read_csv)\n",
    "\n",
    "# Input data files are available in the read-only \"../input/\" directory\n",
    "# For example, running this (by clicking run or pressing Shift+Enter) will list all files under the input directory\n",
    "\n",
    "import os\n",
    "for dirname, _, filenames in os.walk('/kaggle/input'):\n",
    "    for filename in filenames:\n",
    "        print(os.path.join(dirname, filename))\n",
    "\n",
    "# You can write up to 20GB to the current directory (/kaggle/working/) that gets preserved as output when you create a version using \"Save & Run All\" \n",
    "# You can also write temporary files to /kaggle/temp/, but they won't be saved outside of the current session"
   ]
  },
  {
   "cell_type": "markdown",
   "id": "c7a6247a",
   "metadata": {
    "_kg_hide-input": false,
    "papermill": {
     "duration": 0.012543,
     "end_time": "2022-12-18T17:39:27.495682",
     "exception": false,
     "start_time": "2022-12-18T17:39:27.483139",
     "status": "completed"
    },
    "tags": []
   },
   "source": [
    "# **Libraries**"
   ]
  },
  {
   "cell_type": "code",
   "execution_count": 2,
   "id": "ab4fb114",
   "metadata": {
    "execution": {
     "iopub.execute_input": "2022-12-18T17:39:27.525425Z",
     "iopub.status.busy": "2022-12-18T17:39:27.524720Z",
     "iopub.status.idle": "2022-12-18T17:39:28.894941Z",
     "shell.execute_reply": "2022-12-18T17:39:28.893114Z"
    },
    "papermill": {
     "duration": 1.38824,
     "end_time": "2022-12-18T17:39:28.898698",
     "exception": false,
     "start_time": "2022-12-18T17:39:27.510458",
     "status": "completed"
    },
    "tags": []
   },
   "outputs": [],
   "source": [
    "from sklearn.preprocessing import OrdinalEncoder\n",
    "from sklearn.preprocessing import LabelEncoder\n",
    "from sklearn.impute import SimpleImputer\n",
    "from sklearn.metrics import f1_score\n",
    "from sklearn.metrics import confusion_matrix"
   ]
  },
  {
   "cell_type": "markdown",
   "id": "61a84844",
   "metadata": {
    "papermill": {
     "duration": 0.013921,
     "end_time": "2022-12-18T17:39:28.930509",
     "exception": false,
     "start_time": "2022-12-18T17:39:28.916588",
     "status": "completed"
    },
    "tags": []
   },
   "source": [
    "# **Load the data**"
   ]
  },
  {
   "cell_type": "code",
   "execution_count": 3,
   "id": "2b8cbc55",
   "metadata": {
    "execution": {
     "iopub.execute_input": "2022-12-18T17:39:28.963161Z",
     "iopub.status.busy": "2022-12-18T17:39:28.962558Z",
     "iopub.status.idle": "2022-12-18T17:39:29.139493Z",
     "shell.execute_reply": "2022-12-18T17:39:29.138160Z"
    },
    "papermill": {
     "duration": 0.19661,
     "end_time": "2022-12-18T17:39:29.142459",
     "exception": false,
     "start_time": "2022-12-18T17:39:28.945849",
     "status": "completed"
    },
    "tags": []
   },
   "outputs": [],
   "source": [
    "#Loading the data\n",
    "data_train=pd.read_csv('../input/dataset/train_data.csv')\n",
    "data_test=pd.read_csv('../input/dataset/test_data.csv')"
   ]
  },
  {
   "cell_type": "markdown",
   "id": "111d788d",
   "metadata": {
    "papermill": {
     "duration": 0.012658,
     "end_time": "2022-12-18T17:39:29.168420",
     "exception": false,
     "start_time": "2022-12-18T17:39:29.155762",
     "status": "completed"
    },
    "tags": []
   },
   "source": [
    "# **Analyzing the Data**"
   ]
  },
  {
   "cell_type": "code",
   "execution_count": 4,
   "id": "4fb9bb8f",
   "metadata": {
    "execution": {
     "iopub.execute_input": "2022-12-18T17:39:29.196005Z",
     "iopub.status.busy": "2022-12-18T17:39:29.195563Z",
     "iopub.status.idle": "2022-12-18T17:39:29.201130Z",
     "shell.execute_reply": "2022-12-18T17:39:29.199736Z"
    },
    "papermill": {
     "duration": 0.022546,
     "end_time": "2022-12-18T17:39:29.203878",
     "exception": false,
     "start_time": "2022-12-18T17:39:29.181332",
     "status": "completed"
    },
    "tags": []
   },
   "outputs": [],
   "source": [
    "#data_train.info()\n",
    "# data_train.isnull().sum()"
   ]
  },
  {
   "cell_type": "code",
   "execution_count": 5,
   "id": "03845ed9",
   "metadata": {
    "execution": {
     "iopub.execute_input": "2022-12-18T17:39:29.230988Z",
     "iopub.status.busy": "2022-12-18T17:39:29.230551Z",
     "iopub.status.idle": "2022-12-18T17:39:29.253926Z",
     "shell.execute_reply": "2022-12-18T17:39:29.252885Z"
    },
    "papermill": {
     "duration": 0.040917,
     "end_time": "2022-12-18T17:39:29.257465",
     "exception": false,
     "start_time": "2022-12-18T17:39:29.216548",
     "status": "completed"
    },
    "tags": []
   },
   "outputs": [],
   "source": [
    "data_train=data_train.drop('car',axis='columns')\n",
    "data_test=data_test.drop('car', axis='columns')"
   ]
  },
  {
   "cell_type": "code",
   "execution_count": 6,
   "id": "26a21ef5",
   "metadata": {
    "execution": {
     "iopub.execute_input": "2022-12-18T17:39:29.284550Z",
     "iopub.status.busy": "2022-12-18T17:39:29.284095Z",
     "iopub.status.idle": "2022-12-18T17:39:29.289598Z",
     "shell.execute_reply": "2022-12-18T17:39:29.288387Z"
    },
    "papermill": {
     "duration": 0.021964,
     "end_time": "2022-12-18T17:39:29.292250",
     "exception": false,
     "start_time": "2022-12-18T17:39:29.270286",
     "status": "completed"
    },
    "tags": []
   },
   "outputs": [],
   "source": [
    "X_test=data_test"
   ]
  },
  {
   "cell_type": "code",
   "execution_count": 7,
   "id": "ff41b2b3",
   "metadata": {
    "execution": {
     "iopub.execute_input": "2022-12-18T17:39:29.319830Z",
     "iopub.status.busy": "2022-12-18T17:39:29.319399Z",
     "iopub.status.idle": "2022-12-18T17:39:29.330466Z",
     "shell.execute_reply": "2022-12-18T17:39:29.329169Z"
    },
    "papermill": {
     "duration": 0.02781,
     "end_time": "2022-12-18T17:39:29.332767",
     "exception": false,
     "start_time": "2022-12-18T17:39:29.304957",
     "status": "completed"
    },
    "tags": []
   },
   "outputs": [],
   "source": [
    "y_train=data_train[data_train.columns[29]]\n",
    "X_train=data_train[data_train.columns[:29]]"
   ]
  },
  {
   "cell_type": "code",
   "execution_count": 8,
   "id": "c4e81e6a",
   "metadata": {
    "execution": {
     "iopub.execute_input": "2022-12-18T17:39:29.360515Z",
     "iopub.status.busy": "2022-12-18T17:39:29.360090Z",
     "iopub.status.idle": "2022-12-18T17:39:29.392793Z",
     "shell.execute_reply": "2022-12-18T17:39:29.391425Z"
    },
    "papermill": {
     "duration": 0.050527,
     "end_time": "2022-12-18T17:39:29.396023",
     "exception": false,
     "start_time": "2022-12-18T17:39:29.345496",
     "status": "completed"
    },
    "tags": []
   },
   "outputs": [
    {
     "data": {
      "text/html": [
       "<div>\n",
       "<style scoped>\n",
       "    .dataframe tbody tr th:only-of-type {\n",
       "        vertical-align: middle;\n",
       "    }\n",
       "\n",
       "    .dataframe tbody tr th {\n",
       "        vertical-align: top;\n",
       "    }\n",
       "\n",
       "    .dataframe thead th {\n",
       "        text-align: right;\n",
       "    }\n",
       "</style>\n",
       "<table border=\"1\" class=\"dataframe\">\n",
       "  <thead>\n",
       "    <tr style=\"text-align: right;\">\n",
       "      <th></th>\n",
       "      <th>offer expiration</th>\n",
       "      <th>income_range</th>\n",
       "      <th>no_visited_Cold drinks</th>\n",
       "      <th>travelled_more_than_15mins_for_offer</th>\n",
       "      <th>Restaur_spend_less_than20</th>\n",
       "      <th>Marital Status</th>\n",
       "      <th>restaurant type</th>\n",
       "      <th>age</th>\n",
       "      <th>Prefer western over chinese</th>\n",
       "      <th>travelled_more_than_25mins_for_offer</th>\n",
       "      <th>...</th>\n",
       "      <th>Job/Job Industry</th>\n",
       "      <th>restuarant_opposite_direction_house</th>\n",
       "      <th>has Children</th>\n",
       "      <th>visit restaurant with rating (avg)</th>\n",
       "      <th>temperature</th>\n",
       "      <th>Restaur_spend_greater_than20</th>\n",
       "      <th>Travel Time</th>\n",
       "      <th>Climate</th>\n",
       "      <th>drop location</th>\n",
       "      <th>Prefer home food</th>\n",
       "    </tr>\n",
       "  </thead>\n",
       "  <tbody>\n",
       "    <tr>\n",
       "      <th>0</th>\n",
       "      <td>2days</td>\n",
       "      <td>₹100000 or More</td>\n",
       "      <td>4~8</td>\n",
       "      <td>1</td>\n",
       "      <td>less1</td>\n",
       "      <td>Married partner</td>\n",
       "      <td>4 star restaurant</td>\n",
       "      <td>36</td>\n",
       "      <td>0</td>\n",
       "      <td>0</td>\n",
       "      <td>...</td>\n",
       "      <td>Unemployed</td>\n",
       "      <td>0</td>\n",
       "      <td>0</td>\n",
       "      <td>4</td>\n",
       "      <td>67</td>\n",
       "      <td>less1</td>\n",
       "      <td>22</td>\n",
       "      <td>Spring</td>\n",
       "      <td>Location B</td>\n",
       "      <td>0</td>\n",
       "    </tr>\n",
       "    <tr>\n",
       "      <th>1</th>\n",
       "      <td>2days</td>\n",
       "      <td>₹87500 - ₹99999</td>\n",
       "      <td>4~8</td>\n",
       "      <td>0</td>\n",
       "      <td>4~8</td>\n",
       "      <td>Married partner</td>\n",
       "      <td>Take-away restaurant</td>\n",
       "      <td>50plus</td>\n",
       "      <td>0</td>\n",
       "      <td>0</td>\n",
       "      <td>...</td>\n",
       "      <td>Unemployed</td>\n",
       "      <td>0</td>\n",
       "      <td>1</td>\n",
       "      <td>3</td>\n",
       "      <td>89</td>\n",
       "      <td>1~3</td>\n",
       "      <td>18</td>\n",
       "      <td>Summer</td>\n",
       "      <td>Location B</td>\n",
       "      <td>0</td>\n",
       "    </tr>\n",
       "    <tr>\n",
       "      <th>2</th>\n",
       "      <td>2days</td>\n",
       "      <td>₹87500 - ₹99999</td>\n",
       "      <td>less1</td>\n",
       "      <td>1</td>\n",
       "      <td>1~3</td>\n",
       "      <td>Single</td>\n",
       "      <td>Cold drinks</td>\n",
       "      <td>26</td>\n",
       "      <td>1</td>\n",
       "      <td>0</td>\n",
       "      <td>...</td>\n",
       "      <td>Arts Design Entertainment Sports &amp; Media</td>\n",
       "      <td>1</td>\n",
       "      <td>1</td>\n",
       "      <td>4</td>\n",
       "      <td>67</td>\n",
       "      <td>less1</td>\n",
       "      <td>7</td>\n",
       "      <td>Winter</td>\n",
       "      <td>Location A</td>\n",
       "      <td>1</td>\n",
       "    </tr>\n",
       "    <tr>\n",
       "      <th>3</th>\n",
       "      <td>10hours</td>\n",
       "      <td>₹37500 - ₹49999</td>\n",
       "      <td>less1</td>\n",
       "      <td>0</td>\n",
       "      <td>1~3</td>\n",
       "      <td>Single</td>\n",
       "      <td>Take-away restaurant</td>\n",
       "      <td>46</td>\n",
       "      <td>1</td>\n",
       "      <td>0</td>\n",
       "      <td>...</td>\n",
       "      <td>Sales &amp; Related</td>\n",
       "      <td>0</td>\n",
       "      <td>1</td>\n",
       "      <td>3</td>\n",
       "      <td>89</td>\n",
       "      <td>1~3</td>\n",
       "      <td>7</td>\n",
       "      <td>Summer</td>\n",
       "      <td>Location C</td>\n",
       "      <td>0</td>\n",
       "    </tr>\n",
       "    <tr>\n",
       "      <th>4</th>\n",
       "      <td>2days</td>\n",
       "      <td>₹100000 or More</td>\n",
       "      <td>never</td>\n",
       "      <td>1</td>\n",
       "      <td>1~3</td>\n",
       "      <td>Single</td>\n",
       "      <td>4 star restaurant</td>\n",
       "      <td>21</td>\n",
       "      <td>0</td>\n",
       "      <td>1</td>\n",
       "      <td>...</td>\n",
       "      <td>Sales &amp; Related</td>\n",
       "      <td>1</td>\n",
       "      <td>0</td>\n",
       "      <td>3</td>\n",
       "      <td>40</td>\n",
       "      <td>less1</td>\n",
       "      <td>7</td>\n",
       "      <td>Summer</td>\n",
       "      <td>Location C</td>\n",
       "      <td>0</td>\n",
       "    </tr>\n",
       "  </tbody>\n",
       "</table>\n",
       "<p>5 rows × 29 columns</p>\n",
       "</div>"
      ],
      "text/plain": [
       "  offer expiration     income_range no_visited_Cold drinks  \\\n",
       "0            2days  ₹100000 or More                    4~8   \n",
       "1            2days  ₹87500 - ₹99999                    4~8   \n",
       "2            2days  ₹87500 - ₹99999                  less1   \n",
       "3          10hours  ₹37500 - ₹49999                  less1   \n",
       "4            2days  ₹100000 or More                  never   \n",
       "\n",
       "   travelled_more_than_15mins_for_offer Restaur_spend_less_than20  \\\n",
       "0                                     1                     less1   \n",
       "1                                     0                       4~8   \n",
       "2                                     1                       1~3   \n",
       "3                                     0                       1~3   \n",
       "4                                     1                       1~3   \n",
       "\n",
       "    Marital Status       restaurant type     age  Prefer western over chinese  \\\n",
       "0  Married partner     4 star restaurant      36                            0   \n",
       "1  Married partner  Take-away restaurant  50plus                            0   \n",
       "2           Single           Cold drinks      26                            1   \n",
       "3           Single  Take-away restaurant      46                            1   \n",
       "4           Single     4 star restaurant      21                            0   \n",
       "\n",
       "   travelled_more_than_25mins_for_offer  ...  \\\n",
       "0                                     0  ...   \n",
       "1                                     0  ...   \n",
       "2                                     0  ...   \n",
       "3                                     0  ...   \n",
       "4                                     1  ...   \n",
       "\n",
       "                           Job/Job Industry  \\\n",
       "0                                Unemployed   \n",
       "1                                Unemployed   \n",
       "2  Arts Design Entertainment Sports & Media   \n",
       "3                           Sales & Related   \n",
       "4                           Sales & Related   \n",
       "\n",
       "  restuarant_opposite_direction_house has Children  \\\n",
       "0                                   0            0   \n",
       "1                                   0            1   \n",
       "2                                   1            1   \n",
       "3                                   0            1   \n",
       "4                                   1            0   \n",
       "\n",
       "   visit restaurant with rating (avg)  temperature  \\\n",
       "0                                   4           67   \n",
       "1                                   3           89   \n",
       "2                                   4           67   \n",
       "3                                   3           89   \n",
       "4                                   3           40   \n",
       "\n",
       "  Restaur_spend_greater_than20 Travel Time  Climate drop location  \\\n",
       "0                        less1          22   Spring    Location B   \n",
       "1                          1~3          18   Summer    Location B   \n",
       "2                        less1           7   Winter    Location A   \n",
       "3                          1~3           7   Summer    Location C   \n",
       "4                        less1           7   Summer    Location C   \n",
       "\n",
       "  Prefer home food  \n",
       "0                0  \n",
       "1                0  \n",
       "2                1  \n",
       "3                0  \n",
       "4                0  \n",
       "\n",
       "[5 rows x 29 columns]"
      ]
     },
     "execution_count": 8,
     "metadata": {},
     "output_type": "execute_result"
    }
   ],
   "source": [
    "X_train.head()"
   ]
  },
  {
   "cell_type": "markdown",
   "id": "88e114c6",
   "metadata": {
    "papermill": {
     "duration": 0.012617,
     "end_time": "2022-12-18T17:39:29.421899",
     "exception": false,
     "start_time": "2022-12-18T17:39:29.409282",
     "status": "completed"
    },
    "tags": []
   },
   "source": [
    "# **Preprocessing the data**"
   ]
  },
  {
   "cell_type": "code",
   "execution_count": 9,
   "id": "f4a952ba",
   "metadata": {
    "execution": {
     "iopub.execute_input": "2022-12-18T17:39:29.450201Z",
     "iopub.status.busy": "2022-12-18T17:39:29.449226Z",
     "iopub.status.idle": "2022-12-18T17:39:29.454499Z",
     "shell.execute_reply": "2022-12-18T17:39:29.453351Z"
    },
    "papermill": {
     "duration": 0.022367,
     "end_time": "2022-12-18T17:39:29.457280",
     "exception": false,
     "start_time": "2022-12-18T17:39:29.434913",
     "status": "completed"
    },
    "tags": []
   },
   "outputs": [],
   "source": [
    "#data_train['gender'].unique()"
   ]
  },
  {
   "cell_type": "code",
   "execution_count": 10,
   "id": "8a9b3bc7",
   "metadata": {
    "execution": {
     "iopub.execute_input": "2022-12-18T17:39:29.487584Z",
     "iopub.status.busy": "2022-12-18T17:39:29.486705Z",
     "iopub.status.idle": "2022-12-18T17:39:29.491745Z",
     "shell.execute_reply": "2022-12-18T17:39:29.490471Z"
    },
    "papermill": {
     "duration": 0.022842,
     "end_time": "2022-12-18T17:39:29.494471",
     "exception": false,
     "start_time": "2022-12-18T17:39:29.471629",
     "status": "completed"
    },
    "tags": []
   },
   "outputs": [],
   "source": [
    "# import seaborn as sns\n",
    "# import matplotlib.pyplot as plt\n",
    "# cor_matrix=data_train.corr()\n",
    "# plt.figure(figsize=(40,40))\n",
    "# sns.heatmap(cor_matrix,annot=True)"
   ]
  },
  {
   "cell_type": "code",
   "execution_count": 11,
   "id": "0ca16a19",
   "metadata": {
    "execution": {
     "iopub.execute_input": "2022-12-18T17:39:29.523213Z",
     "iopub.status.busy": "2022-12-18T17:39:29.522352Z",
     "iopub.status.idle": "2022-12-18T17:39:29.569976Z",
     "shell.execute_reply": "2022-12-18T17:39:29.569075Z"
    },
    "papermill": {
     "duration": 0.064971,
     "end_time": "2022-12-18T17:39:29.572596",
     "exception": false,
     "start_time": "2022-12-18T17:39:29.507625",
     "status": "completed"
    },
    "tags": []
   },
   "outputs": [],
   "source": [
    "X_train=pd.get_dummies(X_train, columns=['Marital Status', 'restaurant type', 'gender', 'Customer type', 'Climate', 'drop location', 'Job/Job Industry'], prefix='onehot')\n",
    "X_test=pd.get_dummies(X_test, columns=['Marital Status', 'restaurant type', 'gender', 'Customer type', 'Climate', 'drop location', 'Job/Job Industry'], prefix='onehot')\n",
    "#X_train=pd.get_dummies(X_train, columns=['Marital Status', 'restaurant type', 'gender', 'Customer type', 'Qualification', 'Climate', 'drop location'], prefix='onehot')"
   ]
  },
  {
   "cell_type": "code",
   "execution_count": 12,
   "id": "386d1c2d",
   "metadata": {
    "execution": {
     "iopub.execute_input": "2022-12-18T17:39:29.601238Z",
     "iopub.status.busy": "2022-12-18T17:39:29.600472Z",
     "iopub.status.idle": "2022-12-18T17:39:29.607549Z",
     "shell.execute_reply": "2022-12-18T17:39:29.606543Z"
    },
    "papermill": {
     "duration": 0.024398,
     "end_time": "2022-12-18T17:39:29.610073",
     "exception": false,
     "start_time": "2022-12-18T17:39:29.585675",
     "status": "completed"
    },
    "tags": []
   },
   "outputs": [],
   "source": [
    "income_range_categories=[np.nan, 'Less than ₹12500', '₹12500 - ₹24999', '₹25000 - ₹37499', '₹37500 - ₹49999', '₹50000 - ₹62499', '₹62500 - ₹74999', '₹75000 - ₹87499', '₹87500 - ₹99999', '₹100000 or More']\n",
    "offer_exp_categories=[np.nan, '10hours', '2days']\n",
    "visited_Cold_drinks=[np.nan, 'never', 'less1', '1~3', '4~8', 'gt8']\n",
    "#Restaur_spend_less_than20_categories=['never', 'less1', '1~3', '4~8', 'gt8']\n",
    "age_categories=[np.nan, 'below21', '21', '26', '31', '36', '41', '46', '50plus']\n",
    "no_visited_bars_categories=[np.nan, 'never', 'less1', '1~3', '4~8', 'gt8']\n",
    "Qualification_categories=[np.nan, 'Some High School', 'High School Graduate', 'Some college - no degree', 'Associates degree', 'Bachelors degree', 'Graduate degree (Masters or Doctorate)']\n",
    "#no_Take-aways_categories=['never', 'less1', '1~3', '4~8', 'gt8']\n",
    "#Restaur_spend_greater_than20_categories=['never', 'less1', '1~3', '4~8', 'gt8']"
   ]
  },
  {
   "cell_type": "code",
   "execution_count": 13,
   "id": "3ca09ee8",
   "metadata": {
    "execution": {
     "iopub.execute_input": "2022-12-18T17:39:29.638035Z",
     "iopub.status.busy": "2022-12-18T17:39:29.637601Z",
     "iopub.status.idle": "2022-12-18T17:39:29.652554Z",
     "shell.execute_reply": "2022-12-18T17:39:29.651392Z"
    },
    "papermill": {
     "duration": 0.032179,
     "end_time": "2022-12-18T17:39:29.655398",
     "exception": false,
     "start_time": "2022-12-18T17:39:29.623219",
     "status": "completed"
    },
    "tags": []
   },
   "outputs": [],
   "source": [
    "oe1=OrdinalEncoder(categories=[income_range_categories])\n",
    "X_train['income_range'] = oe1.fit_transform(X_train.income_range.values.reshape(-1,1))\n",
    "X_test['income_range'] = oe1.fit_transform(X_test.income_range.values.reshape(-1,1))"
   ]
  },
  {
   "cell_type": "code",
   "execution_count": 14,
   "id": "b874ffcf",
   "metadata": {
    "execution": {
     "iopub.execute_input": "2022-12-18T17:39:29.683539Z",
     "iopub.status.busy": "2022-12-18T17:39:29.683037Z",
     "iopub.status.idle": "2022-12-18T17:39:29.687809Z",
     "shell.execute_reply": "2022-12-18T17:39:29.686875Z"
    },
    "papermill": {
     "duration": 0.021324,
     "end_time": "2022-12-18T17:39:29.689980",
     "exception": false,
     "start_time": "2022-12-18T17:39:29.668656",
     "status": "completed"
    },
    "tags": []
   },
   "outputs": [],
   "source": [
    "# oe2=OrdinalEncoder(categories=[offer_exp_categories])\n",
    "# X_train['offer expiration'] = oe2.fit_transform(X_train['offer expiration'].values.reshape(-1,1))\n",
    "# X_test['offer expiration'] = oe2.fit_transform(X_test['offer expiration'].values.reshape(-1,1))"
   ]
  },
  {
   "cell_type": "code",
   "execution_count": 15,
   "id": "2451d5a2",
   "metadata": {
    "execution": {
     "iopub.execute_input": "2022-12-18T17:39:29.718609Z",
     "iopub.status.busy": "2022-12-18T17:39:29.717816Z",
     "iopub.status.idle": "2022-12-18T17:39:29.734832Z",
     "shell.execute_reply": "2022-12-18T17:39:29.733789Z"
    },
    "papermill": {
     "duration": 0.034254,
     "end_time": "2022-12-18T17:39:29.737420",
     "exception": false,
     "start_time": "2022-12-18T17:39:29.703166",
     "status": "completed"
    },
    "tags": []
   },
   "outputs": [],
   "source": [
    "X_train['offer expiration']=X_train['offer expiration'].replace('2days', 48)\n",
    "X_train['offer expiration']=X_train['offer expiration'].replace('10hours', 10)\n",
    "X_test['offer expiration']=X_test['offer expiration'].replace('2days', 48)\n",
    "X_test['offer expiration']=X_test['offer expiration'].replace('10hours', 10)"
   ]
  },
  {
   "cell_type": "code",
   "execution_count": 16,
   "id": "5f488f27",
   "metadata": {
    "execution": {
     "iopub.execute_input": "2022-12-18T17:39:29.766655Z",
     "iopub.status.busy": "2022-12-18T17:39:29.765569Z",
     "iopub.status.idle": "2022-12-18T17:39:29.780280Z",
     "shell.execute_reply": "2022-12-18T17:39:29.779081Z"
    },
    "papermill": {
     "duration": 0.032837,
     "end_time": "2022-12-18T17:39:29.783520",
     "exception": false,
     "start_time": "2022-12-18T17:39:29.750683",
     "status": "completed"
    },
    "tags": []
   },
   "outputs": [],
   "source": [
    "oe3=OrdinalEncoder(categories=[visited_Cold_drinks])\n",
    "X_train['no_visited_Cold drinks'] = oe3.fit_transform(X_train['no_visited_Cold drinks'].values.reshape(-1,1))\n",
    "X_test['no_visited_Cold drinks'] = oe3.fit_transform(X_test['no_visited_Cold drinks'].values.reshape(-1,1))"
   ]
  },
  {
   "cell_type": "code",
   "execution_count": 17,
   "id": "ca90c167",
   "metadata": {
    "execution": {
     "iopub.execute_input": "2022-12-18T17:39:29.812269Z",
     "iopub.status.busy": "2022-12-18T17:39:29.811834Z",
     "iopub.status.idle": "2022-12-18T17:39:29.826002Z",
     "shell.execute_reply": "2022-12-18T17:39:29.824722Z"
    },
    "papermill": {
     "duration": 0.031169,
     "end_time": "2022-12-18T17:39:29.828572",
     "exception": false,
     "start_time": "2022-12-18T17:39:29.797403",
     "status": "completed"
    },
    "tags": []
   },
   "outputs": [],
   "source": [
    "oe4=OrdinalEncoder(categories=[visited_Cold_drinks])\n",
    "X_train['Restaur_spend_less_than20'] = oe4.fit_transform(X_train['Restaur_spend_less_than20'].values.reshape(-1,1))\n",
    "X_test['Restaur_spend_less_than20'] = oe4.fit_transform(X_test['Restaur_spend_less_than20'].values.reshape(-1,1))"
   ]
  },
  {
   "cell_type": "code",
   "execution_count": 18,
   "id": "d8ef283d",
   "metadata": {
    "execution": {
     "iopub.execute_input": "2022-12-18T17:39:29.857210Z",
     "iopub.status.busy": "2022-12-18T17:39:29.856479Z",
     "iopub.status.idle": "2022-12-18T17:39:29.869533Z",
     "shell.execute_reply": "2022-12-18T17:39:29.868404Z"
    },
    "papermill": {
     "duration": 0.030587,
     "end_time": "2022-12-18T17:39:29.872440",
     "exception": false,
     "start_time": "2022-12-18T17:39:29.841853",
     "status": "completed"
    },
    "tags": []
   },
   "outputs": [],
   "source": [
    "oe5=OrdinalEncoder(categories=[age_categories])\n",
    "X_train['age'] = oe5.fit_transform(X_train['age'].values.reshape(-1,1))\n",
    "X_test['age'] = oe5.fit_transform(X_test['age'].values.reshape(-1,1))"
   ]
  },
  {
   "cell_type": "code",
   "execution_count": 19,
   "id": "954ca839",
   "metadata": {
    "execution": {
     "iopub.execute_input": "2022-12-18T17:39:29.900902Z",
     "iopub.status.busy": "2022-12-18T17:39:29.900480Z",
     "iopub.status.idle": "2022-12-18T17:39:29.915573Z",
     "shell.execute_reply": "2022-12-18T17:39:29.914293Z"
    },
    "papermill": {
     "duration": 0.033298,
     "end_time": "2022-12-18T17:39:29.918785",
     "exception": false,
     "start_time": "2022-12-18T17:39:29.885487",
     "status": "completed"
    },
    "tags": []
   },
   "outputs": [],
   "source": [
    "oe6=OrdinalEncoder(categories=[no_visited_bars_categories])\n",
    "X_train['no_visited_bars'] = oe6.fit_transform(X_train['no_visited_bars'].values.reshape(-1,1))\n",
    "X_test['no_visited_bars'] = oe6.fit_transform(X_test['no_visited_bars'].values.reshape(-1,1))"
   ]
  },
  {
   "cell_type": "code",
   "execution_count": 20,
   "id": "513eb93d",
   "metadata": {
    "execution": {
     "iopub.execute_input": "2022-12-18T17:39:29.949003Z",
     "iopub.status.busy": "2022-12-18T17:39:29.948600Z",
     "iopub.status.idle": "2022-12-18T17:39:29.963237Z",
     "shell.execute_reply": "2022-12-18T17:39:29.961705Z"
    },
    "papermill": {
     "duration": 0.032387,
     "end_time": "2022-12-18T17:39:29.965741",
     "exception": false,
     "start_time": "2022-12-18T17:39:29.933354",
     "status": "completed"
    },
    "tags": []
   },
   "outputs": [],
   "source": [
    "oe7=OrdinalEncoder(categories=[Qualification_categories])\n",
    "X_train['Qualification'] = oe7.fit_transform(X_train['Qualification'].values.reshape(-1,1))\n",
    "X_test['Qualification'] = oe7.fit_transform(X_test['Qualification'].values.reshape(-1,1))"
   ]
  },
  {
   "cell_type": "code",
   "execution_count": 21,
   "id": "bc86929d",
   "metadata": {
    "execution": {
     "iopub.execute_input": "2022-12-18T17:39:29.993798Z",
     "iopub.status.busy": "2022-12-18T17:39:29.993377Z",
     "iopub.status.idle": "2022-12-18T17:39:30.007527Z",
     "shell.execute_reply": "2022-12-18T17:39:30.006591Z"
    },
    "papermill": {
     "duration": 0.031276,
     "end_time": "2022-12-18T17:39:30.010058",
     "exception": false,
     "start_time": "2022-12-18T17:39:29.978782",
     "status": "completed"
    },
    "tags": []
   },
   "outputs": [],
   "source": [
    "oe8=OrdinalEncoder(categories=[visited_Cold_drinks])\n",
    "X_train['no_Take-aways'] = oe8.fit_transform(X_train['no_Take-aways'].values.reshape(-1,1))\n",
    "X_test['no_Take-aways'] = oe8.fit_transform(X_test['no_Take-aways'].values.reshape(-1,1))"
   ]
  },
  {
   "cell_type": "code",
   "execution_count": 22,
   "id": "6c5a0f9d",
   "metadata": {
    "execution": {
     "iopub.execute_input": "2022-12-18T17:39:30.038186Z",
     "iopub.status.busy": "2022-12-18T17:39:30.037767Z",
     "iopub.status.idle": "2022-12-18T17:39:30.051400Z",
     "shell.execute_reply": "2022-12-18T17:39:30.050177Z"
    },
    "papermill": {
     "duration": 0.031116,
     "end_time": "2022-12-18T17:39:30.054035",
     "exception": false,
     "start_time": "2022-12-18T17:39:30.022919",
     "status": "completed"
    },
    "tags": []
   },
   "outputs": [],
   "source": [
    "oe9=OrdinalEncoder(categories=[visited_Cold_drinks])\n",
    "X_train['Restaur_spend_greater_than20'] = oe9.fit_transform(X_train['Restaur_spend_greater_than20'].values.reshape(-1,1))\n",
    "X_test['Restaur_spend_greater_than20'] = oe9.fit_transform(X_test['Restaur_spend_greater_than20'].values.reshape(-1,1))"
   ]
  },
  {
   "cell_type": "code",
   "execution_count": 23,
   "id": "d3937f20",
   "metadata": {
    "execution": {
     "iopub.execute_input": "2022-12-18T17:39:30.082945Z",
     "iopub.status.busy": "2022-12-18T17:39:30.082506Z",
     "iopub.status.idle": "2022-12-18T17:39:30.108783Z",
     "shell.execute_reply": "2022-12-18T17:39:30.107420Z"
    },
    "papermill": {
     "duration": 0.043955,
     "end_time": "2022-12-18T17:39:30.111586",
     "exception": false,
     "start_time": "2022-12-18T17:39:30.067631",
     "status": "completed"
    },
    "tags": []
   },
   "outputs": [
    {
     "data": {
      "text/html": [
       "<div>\n",
       "<style scoped>\n",
       "    .dataframe tbody tr th:only-of-type {\n",
       "        vertical-align: middle;\n",
       "    }\n",
       "\n",
       "    .dataframe tbody tr th {\n",
       "        vertical-align: top;\n",
       "    }\n",
       "\n",
       "    .dataframe thead th {\n",
       "        text-align: right;\n",
       "    }\n",
       "</style>\n",
       "<table border=\"1\" class=\"dataframe\">\n",
       "  <thead>\n",
       "    <tr style=\"text-align: right;\">\n",
       "      <th></th>\n",
       "      <th>offer expiration</th>\n",
       "      <th>income_range</th>\n",
       "      <th>no_visited_Cold drinks</th>\n",
       "      <th>travelled_more_than_15mins_for_offer</th>\n",
       "      <th>Restaur_spend_less_than20</th>\n",
       "      <th>age</th>\n",
       "      <th>Prefer western over chinese</th>\n",
       "      <th>travelled_more_than_25mins_for_offer</th>\n",
       "      <th>travelled_more_than_5mins_for_offer</th>\n",
       "      <th>no_visited_bars</th>\n",
       "      <th>...</th>\n",
       "      <th>onehot_Management</th>\n",
       "      <th>onehot_Office &amp; Administrative Support</th>\n",
       "      <th>onehot_Personal Care &amp; Service</th>\n",
       "      <th>onehot_Production Occupations</th>\n",
       "      <th>onehot_Protective Service</th>\n",
       "      <th>onehot_Retired</th>\n",
       "      <th>onehot_Sales &amp; Related</th>\n",
       "      <th>onehot_Student</th>\n",
       "      <th>onehot_Transportation &amp; Material Moving</th>\n",
       "      <th>onehot_Unemployed</th>\n",
       "    </tr>\n",
       "  </thead>\n",
       "  <tbody>\n",
       "    <tr>\n",
       "      <th>0</th>\n",
       "      <td>48</td>\n",
       "      <td>9.0</td>\n",
       "      <td>4.0</td>\n",
       "      <td>1</td>\n",
       "      <td>2.0</td>\n",
       "      <td>5.0</td>\n",
       "      <td>0</td>\n",
       "      <td>0</td>\n",
       "      <td>1</td>\n",
       "      <td>2.0</td>\n",
       "      <td>...</td>\n",
       "      <td>0</td>\n",
       "      <td>0</td>\n",
       "      <td>0</td>\n",
       "      <td>0</td>\n",
       "      <td>0</td>\n",
       "      <td>0</td>\n",
       "      <td>0</td>\n",
       "      <td>0</td>\n",
       "      <td>0</td>\n",
       "      <td>1</td>\n",
       "    </tr>\n",
       "    <tr>\n",
       "      <th>1</th>\n",
       "      <td>48</td>\n",
       "      <td>8.0</td>\n",
       "      <td>4.0</td>\n",
       "      <td>0</td>\n",
       "      <td>4.0</td>\n",
       "      <td>8.0</td>\n",
       "      <td>0</td>\n",
       "      <td>0</td>\n",
       "      <td>1</td>\n",
       "      <td>1.0</td>\n",
       "      <td>...</td>\n",
       "      <td>0</td>\n",
       "      <td>0</td>\n",
       "      <td>0</td>\n",
       "      <td>0</td>\n",
       "      <td>0</td>\n",
       "      <td>0</td>\n",
       "      <td>0</td>\n",
       "      <td>0</td>\n",
       "      <td>0</td>\n",
       "      <td>1</td>\n",
       "    </tr>\n",
       "    <tr>\n",
       "      <th>2</th>\n",
       "      <td>48</td>\n",
       "      <td>8.0</td>\n",
       "      <td>2.0</td>\n",
       "      <td>1</td>\n",
       "      <td>3.0</td>\n",
       "      <td>3.0</td>\n",
       "      <td>1</td>\n",
       "      <td>0</td>\n",
       "      <td>1</td>\n",
       "      <td>1.0</td>\n",
       "      <td>...</td>\n",
       "      <td>0</td>\n",
       "      <td>0</td>\n",
       "      <td>0</td>\n",
       "      <td>0</td>\n",
       "      <td>0</td>\n",
       "      <td>0</td>\n",
       "      <td>0</td>\n",
       "      <td>0</td>\n",
       "      <td>0</td>\n",
       "      <td>0</td>\n",
       "    </tr>\n",
       "    <tr>\n",
       "      <th>3</th>\n",
       "      <td>10</td>\n",
       "      <td>4.0</td>\n",
       "      <td>2.0</td>\n",
       "      <td>0</td>\n",
       "      <td>3.0</td>\n",
       "      <td>7.0</td>\n",
       "      <td>1</td>\n",
       "      <td>0</td>\n",
       "      <td>1</td>\n",
       "      <td>1.0</td>\n",
       "      <td>...</td>\n",
       "      <td>0</td>\n",
       "      <td>0</td>\n",
       "      <td>0</td>\n",
       "      <td>0</td>\n",
       "      <td>0</td>\n",
       "      <td>0</td>\n",
       "      <td>1</td>\n",
       "      <td>0</td>\n",
       "      <td>0</td>\n",
       "      <td>0</td>\n",
       "    </tr>\n",
       "    <tr>\n",
       "      <th>4</th>\n",
       "      <td>48</td>\n",
       "      <td>9.0</td>\n",
       "      <td>1.0</td>\n",
       "      <td>1</td>\n",
       "      <td>3.0</td>\n",
       "      <td>2.0</td>\n",
       "      <td>0</td>\n",
       "      <td>1</td>\n",
       "      <td>1</td>\n",
       "      <td>2.0</td>\n",
       "      <td>...</td>\n",
       "      <td>0</td>\n",
       "      <td>0</td>\n",
       "      <td>0</td>\n",
       "      <td>0</td>\n",
       "      <td>0</td>\n",
       "      <td>0</td>\n",
       "      <td>1</td>\n",
       "      <td>0</td>\n",
       "      <td>0</td>\n",
       "      <td>0</td>\n",
       "    </tr>\n",
       "  </tbody>\n",
       "</table>\n",
       "<p>5 rows × 69 columns</p>\n",
       "</div>"
      ],
      "text/plain": [
       "   offer expiration  income_range  no_visited_Cold drinks  \\\n",
       "0                48           9.0                     4.0   \n",
       "1                48           8.0                     4.0   \n",
       "2                48           8.0                     2.0   \n",
       "3                10           4.0                     2.0   \n",
       "4                48           9.0                     1.0   \n",
       "\n",
       "   travelled_more_than_15mins_for_offer  Restaur_spend_less_than20  age  \\\n",
       "0                                     1                        2.0  5.0   \n",
       "1                                     0                        4.0  8.0   \n",
       "2                                     1                        3.0  3.0   \n",
       "3                                     0                        3.0  7.0   \n",
       "4                                     1                        3.0  2.0   \n",
       "\n",
       "   Prefer western over chinese  travelled_more_than_25mins_for_offer  \\\n",
       "0                            0                                     0   \n",
       "1                            0                                     0   \n",
       "2                            1                                     0   \n",
       "3                            1                                     0   \n",
       "4                            0                                     1   \n",
       "\n",
       "   travelled_more_than_5mins_for_offer  no_visited_bars  ...  \\\n",
       "0                                    1              2.0  ...   \n",
       "1                                    1              1.0  ...   \n",
       "2                                    1              1.0  ...   \n",
       "3                                    1              1.0  ...   \n",
       "4                                    1              2.0  ...   \n",
       "\n",
       "   onehot_Management  onehot_Office & Administrative Support  \\\n",
       "0                  0                                       0   \n",
       "1                  0                                       0   \n",
       "2                  0                                       0   \n",
       "3                  0                                       0   \n",
       "4                  0                                       0   \n",
       "\n",
       "   onehot_Personal Care & Service  onehot_Production Occupations  \\\n",
       "0                               0                              0   \n",
       "1                               0                              0   \n",
       "2                               0                              0   \n",
       "3                               0                              0   \n",
       "4                               0                              0   \n",
       "\n",
       "   onehot_Protective Service  onehot_Retired  onehot_Sales & Related  \\\n",
       "0                          0               0                       0   \n",
       "1                          0               0                       0   \n",
       "2                          0               0                       0   \n",
       "3                          0               0                       1   \n",
       "4                          0               0                       1   \n",
       "\n",
       "   onehot_Student  onehot_Transportation & Material Moving  onehot_Unemployed  \n",
       "0               0                                        0                  1  \n",
       "1               0                                        0                  1  \n",
       "2               0                                        0                  0  \n",
       "3               0                                        0                  0  \n",
       "4               0                                        0                  0  \n",
       "\n",
       "[5 rows x 69 columns]"
      ]
     },
     "execution_count": 23,
     "metadata": {},
     "output_type": "execute_result"
    }
   ],
   "source": [
    "X_train.head()"
   ]
  },
  {
   "cell_type": "code",
   "execution_count": 24,
   "id": "635450e7",
   "metadata": {
    "execution": {
     "iopub.execute_input": "2022-12-18T17:39:30.141294Z",
     "iopub.status.busy": "2022-12-18T17:39:30.140858Z",
     "iopub.status.idle": "2022-12-18T17:39:30.149557Z",
     "shell.execute_reply": "2022-12-18T17:39:30.148434Z"
    },
    "papermill": {
     "duration": 0.026876,
     "end_time": "2022-12-18T17:39:30.152272",
     "exception": false,
     "start_time": "2022-12-18T17:39:30.125396",
     "status": "completed"
    },
    "tags": []
   },
   "outputs": [],
   "source": [
    "le = LabelEncoder()\n",
    "y_train = le.fit_transform(y_train)"
   ]
  },
  {
   "cell_type": "code",
   "execution_count": 25,
   "id": "97a4575f",
   "metadata": {
    "execution": {
     "iopub.execute_input": "2022-12-18T17:39:30.181347Z",
     "iopub.status.busy": "2022-12-18T17:39:30.180900Z",
     "iopub.status.idle": "2022-12-18T17:39:30.189233Z",
     "shell.execute_reply": "2022-12-18T17:39:30.187793Z"
    },
    "papermill": {
     "duration": 0.026097,
     "end_time": "2022-12-18T17:39:30.192179",
     "exception": false,
     "start_time": "2022-12-18T17:39:30.166082",
     "status": "completed"
    },
    "tags": []
   },
   "outputs": [
    {
     "data": {
      "text/plain": [
       "array([0, 1, 1, ..., 0, 1, 1])"
      ]
     },
     "execution_count": 25,
     "metadata": {},
     "output_type": "execute_result"
    }
   ],
   "source": [
    "y_train"
   ]
  },
  {
   "cell_type": "code",
   "execution_count": 26,
   "id": "ec096e3b",
   "metadata": {
    "execution": {
     "iopub.execute_input": "2022-12-18T17:39:30.223346Z",
     "iopub.status.busy": "2022-12-18T17:39:30.222971Z",
     "iopub.status.idle": "2022-12-18T17:39:30.227893Z",
     "shell.execute_reply": "2022-12-18T17:39:30.226738Z"
    },
    "papermill": {
     "duration": 0.024189,
     "end_time": "2022-12-18T17:39:30.230324",
     "exception": false,
     "start_time": "2022-12-18T17:39:30.206135",
     "status": "completed"
    },
    "tags": []
   },
   "outputs": [],
   "source": [
    "X_train_copy = X_train\n",
    "y_train_copy = y_train"
   ]
  },
  {
   "cell_type": "code",
   "execution_count": 27,
   "id": "626bad12",
   "metadata": {
    "execution": {
     "iopub.execute_input": "2022-12-18T17:39:30.259302Z",
     "iopub.status.busy": "2022-12-18T17:39:30.258862Z",
     "iopub.status.idle": "2022-12-18T17:39:30.359960Z",
     "shell.execute_reply": "2022-12-18T17:39:30.358641Z"
    },
    "papermill": {
     "duration": 0.118622,
     "end_time": "2022-12-18T17:39:30.362636",
     "exception": false,
     "start_time": "2022-12-18T17:39:30.244014",
     "status": "completed"
    },
    "tags": []
   },
   "outputs": [],
   "source": [
    "imputer = SimpleImputer(missing_values=np.nan, strategy=\"most_frequent\")\n",
    "X_train_copy = imputer.fit_transform(X_train_copy)\n",
    "X_test = imputer.fit_transform(X_test)"
   ]
  },
  {
   "cell_type": "markdown",
   "id": "04e05210",
   "metadata": {
    "papermill": {
     "duration": 0.01338,
     "end_time": "2022-12-18T17:39:30.390451",
     "exception": false,
     "start_time": "2022-12-18T17:39:30.377071",
     "status": "completed"
    },
    "tags": []
   },
   "source": [
    "# Model Training"
   ]
  },
  {
   "cell_type": "code",
   "execution_count": 28,
   "id": "49569d96",
   "metadata": {
    "execution": {
     "iopub.execute_input": "2022-12-18T17:39:30.420978Z",
     "iopub.status.busy": "2022-12-18T17:39:30.420578Z",
     "iopub.status.idle": "2022-12-18T17:39:30.435160Z",
     "shell.execute_reply": "2022-12-18T17:39:30.433962Z"
    },
    "papermill": {
     "duration": 0.033663,
     "end_time": "2022-12-18T17:39:30.437899",
     "exception": false,
     "start_time": "2022-12-18T17:39:30.404236",
     "status": "completed"
    },
    "tags": []
   },
   "outputs": [],
   "source": [
    "from sklearn.model_selection import train_test_split\n",
    "x_train, x_test, Y_train, Y_test = train_test_split(X_train_copy, y_train, test_size=0.25, random_state=32)"
   ]
  },
  {
   "cell_type": "code",
   "execution_count": 29,
   "id": "44c6e044",
   "metadata": {
    "execution": {
     "iopub.execute_input": "2022-12-18T17:39:30.467146Z",
     "iopub.status.busy": "2022-12-18T17:39:30.466753Z",
     "iopub.status.idle": "2022-12-18T17:39:30.472309Z",
     "shell.execute_reply": "2022-12-18T17:39:30.470863Z"
    },
    "papermill": {
     "duration": 0.022978,
     "end_time": "2022-12-18T17:39:30.474789",
     "exception": false,
     "start_time": "2022-12-18T17:39:30.451811",
     "status": "completed"
    },
    "tags": []
   },
   "outputs": [],
   "source": [
    "#from sklearn.dummy import DummyClassifier\n",
    "# dummy_clf = DummyClassifier()\n",
    "# dummy_clf.fit(x_train, Y_train)\n",
    "# y_pred_dc = dummy_clf.predict(x_test)\n",
    "# dc_sc=f1_score(Y_test, y_pred_dc)\n",
    "#dc_sc\n",
    "#0.721602643535729\n",
    "#0.5583"
   ]
  },
  {
   "cell_type": "code",
   "execution_count": 30,
   "id": "dc0035b1",
   "metadata": {
    "execution": {
     "iopub.execute_input": "2022-12-18T17:39:30.504481Z",
     "iopub.status.busy": "2022-12-18T17:39:30.504042Z",
     "iopub.status.idle": "2022-12-18T17:39:30.508954Z",
     "shell.execute_reply": "2022-12-18T17:39:30.508005Z"
    },
    "papermill": {
     "duration": 0.022359,
     "end_time": "2022-12-18T17:39:30.511134",
     "exception": false,
     "start_time": "2022-12-18T17:39:30.488775",
     "status": "completed"
    },
    "tags": []
   },
   "outputs": [],
   "source": [
    "#from sklearn.linear_model import Perceptron\n",
    "# bin_clf = Perceptron(max_iter=100, random_state=42)\n",
    "# bin_clf.fit(x_train, Y_train)\n",
    "# y_pred_bin_clf = bin_clf.predict(x_test)\n",
    "# bin_clf_sc=f1_score(Y_test, y_pred_bin_clf)\n",
    "# bin_clf_sc\n",
    "#0.6096813725490197\n",
    "#0.57608"
   ]
  },
  {
   "cell_type": "code",
   "execution_count": 31,
   "id": "754daf9b",
   "metadata": {
    "execution": {
     "iopub.execute_input": "2022-12-18T17:39:30.541479Z",
     "iopub.status.busy": "2022-12-18T17:39:30.541003Z",
     "iopub.status.idle": "2022-12-18T17:39:30.546232Z",
     "shell.execute_reply": "2022-12-18T17:39:30.545057Z"
    },
    "papermill": {
     "duration": 0.023456,
     "end_time": "2022-12-18T17:39:30.548727",
     "exception": false,
     "start_time": "2022-12-18T17:39:30.525271",
     "status": "completed"
    },
    "tags": []
   },
   "outputs": [],
   "source": [
    "#from sklearn.linear_model import SGDClassifier\n",
    "# sgd_clf = SGDClassifier(loss=\"huber\", alpha=0.1)\n",
    "# sgd_clf.fit(x_train, Y_train)\n",
    "# y_pred_sgd=sgd_clf.predict(x_test)\n",
    "# sgd_sc=f1_score(Y_test, y_pred_sgd)\n",
    "# sgd_sc\n",
    "#0.7106852739012706\n",
    "#0.54349 "
   ]
  },
  {
   "cell_type": "code",
   "execution_count": 32,
   "id": "fedfcbb3",
   "metadata": {
    "execution": {
     "iopub.execute_input": "2022-12-18T17:39:30.578119Z",
     "iopub.status.busy": "2022-12-18T17:39:30.577665Z",
     "iopub.status.idle": "2022-12-18T17:39:30.582850Z",
     "shell.execute_reply": "2022-12-18T17:39:30.581791Z"
    },
    "papermill": {
     "duration": 0.022736,
     "end_time": "2022-12-18T17:39:30.585198",
     "exception": false,
     "start_time": "2022-12-18T17:39:30.562462",
     "status": "completed"
    },
    "tags": []
   },
   "outputs": [],
   "source": [
    "# from sklearn.linear_model import RidgeClassifier\n",
    "# r_clf=RidgeClassifier(fit_intercept=False, random_state=42)\n",
    "# r_clf.fit(x_train, Y_train)\n",
    "# y_pred_rclf=r_clf.predict(x_test)\n",
    "# r_clf_sc=f1_score(Y_test, y_pred_rclf)\n",
    "# r_clf_sc\n",
    "#0.6862745098039217"
   ]
  },
  {
   "cell_type": "code",
   "execution_count": 33,
   "id": "cf10f741",
   "metadata": {
    "execution": {
     "iopub.execute_input": "2022-12-18T17:39:30.614455Z",
     "iopub.status.busy": "2022-12-18T17:39:30.613954Z",
     "iopub.status.idle": "2022-12-18T17:39:30.618905Z",
     "shell.execute_reply": "2022-12-18T17:39:30.617770Z"
    },
    "papermill": {
     "duration": 0.022363,
     "end_time": "2022-12-18T17:39:30.621218",
     "exception": false,
     "start_time": "2022-12-18T17:39:30.598855",
     "status": "completed"
    },
    "tags": []
   },
   "outputs": [],
   "source": [
    "# from sklearn.linear_model import LogisticRegression\n",
    "# logit = LogisticRegression(random_state=42)\n",
    "# logit.fit(x_train,Y_train)\n",
    "# y_pred_logit = logit.predict(x_test)\n",
    "# logit_sc=f1_score(Y_test, y_pred_logit)\n",
    "# logit_sc\n",
    "#0.688659793814433"
   ]
  },
  {
   "cell_type": "code",
   "execution_count": 34,
   "id": "29f61ea4",
   "metadata": {
    "execution": {
     "iopub.execute_input": "2022-12-18T17:39:30.651827Z",
     "iopub.status.busy": "2022-12-18T17:39:30.651357Z",
     "iopub.status.idle": "2022-12-18T17:39:30.655975Z",
     "shell.execute_reply": "2022-12-18T17:39:30.655033Z"
    },
    "papermill": {
     "duration": 0.022777,
     "end_time": "2022-12-18T17:39:30.658169",
     "exception": false,
     "start_time": "2022-12-18T17:39:30.635392",
     "status": "completed"
    },
    "tags": []
   },
   "outputs": [],
   "source": [
    "#from sklearn.linear_model import LogisticRegressionCV\n",
    "# logit_cv = LogisticRegressionCV(cv=5, scoring='f1',random_state=42)\n",
    "# logit_cv.fit(x_train,Y_train)\n",
    "# y_pred_logit_cv = logit_cv.predict(x_test)\n",
    "# logit_cv_sc=f1_score(Y_test, y_pred_logit_cv)\n",
    "#0.7041214750542301\n",
    "#0.56854"
   ]
  },
  {
   "cell_type": "code",
   "execution_count": 35,
   "id": "e21f42b2",
   "metadata": {
    "execution": {
     "iopub.execute_input": "2022-12-18T17:39:30.687123Z",
     "iopub.status.busy": "2022-12-18T17:39:30.686719Z",
     "iopub.status.idle": "2022-12-18T17:39:30.691084Z",
     "shell.execute_reply": "2022-12-18T17:39:30.690065Z"
    },
    "papermill": {
     "duration": 0.021817,
     "end_time": "2022-12-18T17:39:30.693492",
     "exception": false,
     "start_time": "2022-12-18T17:39:30.671675",
     "status": "completed"
    },
    "tags": []
   },
   "outputs": [],
   "source": [
    "# from sklearn.neighbors import KNeighborsClassifier\n",
    "# knn=KNeighborsClassifier(n_neighbors=35)\n",
    "# knn.fit(x_train,Y_train)\n",
    "# knn_sc  = f1_score(Y_test, knn.predict(x_test))\n",
    "# knn_sc\n",
    "#0.55696\n",
    "#0.6658409710180828"
   ]
  },
  {
   "cell_type": "code",
   "execution_count": 36,
   "id": "f3a40660",
   "metadata": {
    "execution": {
     "iopub.execute_input": "2022-12-18T17:39:30.722813Z",
     "iopub.status.busy": "2022-12-18T17:39:30.722335Z",
     "iopub.status.idle": "2022-12-18T17:39:30.726693Z",
     "shell.execute_reply": "2022-12-18T17:39:30.725738Z"
    },
    "papermill": {
     "duration": 0.021544,
     "end_time": "2022-12-18T17:39:30.728835",
     "exception": false,
     "start_time": "2022-12-18T17:39:30.707291",
     "status": "completed"
    },
    "tags": []
   },
   "outputs": [],
   "source": [
    "# from sklearn.tree import DecisionTreeClassifier\n",
    "# dtc=DecisionTreeClassifier(max_depth=5)\n",
    "# dtc.fit(x_train, Y_train)\n",
    "# dtc_pred=dtc.predict(x_test)\n",
    "# dtc_pred\n",
    "# sc = dtc.score(x_test, Y_test)\n",
    "# print(sc)\n",
    "# dtc.get_n_leaves()\n"
   ]
  },
  {
   "cell_type": "code",
   "execution_count": 37,
   "id": "9e1068ac",
   "metadata": {
    "execution": {
     "iopub.execute_input": "2022-12-18T17:39:30.758023Z",
     "iopub.status.busy": "2022-12-18T17:39:30.757618Z",
     "iopub.status.idle": "2022-12-18T17:39:30.763076Z",
     "shell.execute_reply": "2022-12-18T17:39:30.761681Z"
    },
    "papermill": {
     "duration": 0.023332,
     "end_time": "2022-12-18T17:39:30.765851",
     "exception": false,
     "start_time": "2022-12-18T17:39:30.742519",
     "status": "completed"
    },
    "tags": []
   },
   "outputs": [],
   "source": [
    "# from sklearn.tree import plot_tree\n",
    "# plot_tree(dtc)"
   ]
  },
  {
   "cell_type": "code",
   "execution_count": 38,
   "id": "e97f783f",
   "metadata": {
    "execution": {
     "iopub.execute_input": "2022-12-18T17:39:30.795526Z",
     "iopub.status.busy": "2022-12-18T17:39:30.795066Z",
     "iopub.status.idle": "2022-12-18T17:39:38.799949Z",
     "shell.execute_reply": "2022-12-18T17:39:38.798646Z"
    },
    "papermill": {
     "duration": 8.023434,
     "end_time": "2022-12-18T17:39:38.802979",
     "exception": false,
     "start_time": "2022-12-18T17:39:30.779545",
     "status": "completed"
    },
    "tags": []
   },
   "outputs": [],
   "source": [
    "from sklearn.ensemble import RandomForestClassifier\n",
    "rfc = RandomForestClassifier(max_depth=15, random_state=10, n_estimators=550)\n",
    "rfc.fit(x_train, Y_train)\n",
    "y_pred_rfc = rfc.predict(x_test)\n",
    "sc = f1_score(Y_test, y_pred_rfc)\n"
   ]
  },
  {
   "cell_type": "code",
   "execution_count": 39,
   "id": "36a42395",
   "metadata": {
    "execution": {
     "iopub.execute_input": "2022-12-18T17:39:38.833096Z",
     "iopub.status.busy": "2022-12-18T17:39:38.832284Z",
     "iopub.status.idle": "2022-12-18T17:39:38.838871Z",
     "shell.execute_reply": "2022-12-18T17:39:38.837912Z"
    },
    "papermill": {
     "duration": 0.025012,
     "end_time": "2022-12-18T17:39:38.842030",
     "exception": false,
     "start_time": "2022-12-18T17:39:38.817018",
     "status": "completed"
    },
    "tags": []
   },
   "outputs": [
    {
     "data": {
      "text/plain": [
       "0.7146426786606697"
      ]
     },
     "execution_count": 39,
     "metadata": {},
     "output_type": "execute_result"
    }
   ],
   "source": [
    "sc"
   ]
  },
  {
   "cell_type": "code",
   "execution_count": 40,
   "id": "efd0ecf4",
   "metadata": {
    "execution": {
     "iopub.execute_input": "2022-12-18T17:39:38.872409Z",
     "iopub.status.busy": "2022-12-18T17:39:38.871968Z",
     "iopub.status.idle": "2022-12-18T17:39:38.876878Z",
     "shell.execute_reply": "2022-12-18T17:39:38.875731Z"
    },
    "papermill": {
     "duration": 0.022735,
     "end_time": "2022-12-18T17:39:38.879521",
     "exception": false,
     "start_time": "2022-12-18T17:39:38.856786",
     "status": "completed"
    },
    "tags": []
   },
   "outputs": [],
   "source": [
    "# from sklearn.neural_network import MLPClassifier\n",
    "# clf=MLPClassifier(hidden_layer_sizes=(140,), random_state=10, max_iter=1000)\n",
    "# clf.fit(x_train, Y_train)\n",
    "# y_pred_clf=clf.predict(x_test)\n",
    "# scor=f1_score(Y_test, y_pred_clf)\n",
    "# scor\n",
    "# # 0.7012195121951219"
   ]
  },
  {
   "cell_type": "code",
   "execution_count": 41,
   "id": "dbadce3c",
   "metadata": {
    "execution": {
     "iopub.execute_input": "2022-12-18T17:39:38.909795Z",
     "iopub.status.busy": "2022-12-18T17:39:38.909319Z",
     "iopub.status.idle": "2022-12-18T17:40:06.232288Z",
     "shell.execute_reply": "2022-12-18T17:40:06.230943Z"
    },
    "papermill": {
     "duration": 27.341343,
     "end_time": "2022-12-18T17:40:06.235128",
     "exception": false,
     "start_time": "2022-12-18T17:39:38.893785",
     "status": "completed"
    },
    "tags": []
   },
   "outputs": [],
   "source": [
    "from sklearn.ensemble import AdaBoostClassifier\n",
    "abc=AdaBoostClassifier(base_estimator=rfc, random_state=10)\n",
    "abc.fit(x_train, Y_train)\n",
    "y_pred_abc=abc.predict(x_test)\n",
    "sco=f1_score(Y_test, y_pred_abc)\n"
   ]
  },
  {
   "cell_type": "code",
   "execution_count": 42,
   "id": "d45549a3",
   "metadata": {
    "execution": {
     "iopub.execute_input": "2022-12-18T17:40:06.264330Z",
     "iopub.status.busy": "2022-12-18T17:40:06.263908Z",
     "iopub.status.idle": "2022-12-18T17:40:06.270388Z",
     "shell.execute_reply": "2022-12-18T17:40:06.269450Z"
    },
    "papermill": {
     "duration": 0.023299,
     "end_time": "2022-12-18T17:40:06.272439",
     "exception": false,
     "start_time": "2022-12-18T17:40:06.249140",
     "status": "completed"
    },
    "tags": []
   },
   "outputs": [
    {
     "data": {
      "text/plain": [
       "0.7139611209290584"
      ]
     },
     "execution_count": 42,
     "metadata": {},
     "output_type": "execute_result"
    }
   ],
   "source": [
    "sco"
   ]
  },
  {
   "cell_type": "code",
   "execution_count": 43,
   "id": "2f38f955",
   "metadata": {
    "execution": {
     "iopub.execute_input": "2022-12-18T17:40:06.302140Z",
     "iopub.status.busy": "2022-12-18T17:40:06.301087Z",
     "iopub.status.idle": "2022-12-18T17:40:06.306048Z",
     "shell.execute_reply": "2022-12-18T17:40:06.304899Z"
    },
    "papermill": {
     "duration": 0.0222,
     "end_time": "2022-12-18T17:40:06.308438",
     "exception": false,
     "start_time": "2022-12-18T17:40:06.286238",
     "status": "completed"
    },
    "tags": []
   },
   "outputs": [],
   "source": [
    "#?AdaBoostClassifier"
   ]
  },
  {
   "cell_type": "code",
   "execution_count": 44,
   "id": "82406c40",
   "metadata": {
    "execution": {
     "iopub.execute_input": "2022-12-18T17:40:06.337902Z",
     "iopub.status.busy": "2022-12-18T17:40:06.337449Z",
     "iopub.status.idle": "2022-12-18T17:40:06.342092Z",
     "shell.execute_reply": "2022-12-18T17:40:06.340879Z"
    },
    "papermill": {
     "duration": 0.022188,
     "end_time": "2022-12-18T17:40:06.344379",
     "exception": false,
     "start_time": "2022-12-18T17:40:06.322191",
     "status": "completed"
    },
    "tags": []
   },
   "outputs": [],
   "source": [
    "# from sklearn.ensemble import GradientBoostingClassifier\n",
    "# gbc=GradientBoostingClassifier()\n",
    "# gbc.fit(x_train, Y_train)\n",
    "# y_pred_gbc=gbc.predict(x_test)\n",
    "# sco=f1_score(Y_test, y_pred_abc)\n",
    "# sco"
   ]
  },
  {
   "cell_type": "code",
   "execution_count": 45,
   "id": "10f85896",
   "metadata": {
    "execution": {
     "iopub.execute_input": "2022-12-18T17:40:06.373595Z",
     "iopub.status.busy": "2022-12-18T17:40:06.373131Z",
     "iopub.status.idle": "2022-12-18T17:40:06.378208Z",
     "shell.execute_reply": "2022-12-18T17:40:06.376773Z"
    },
    "papermill": {
     "duration": 0.022573,
     "end_time": "2022-12-18T17:40:06.380698",
     "exception": false,
     "start_time": "2022-12-18T17:40:06.358125",
     "status": "completed"
    },
    "tags": []
   },
   "outputs": [],
   "source": [
    "# param_grid={'loss'=[‘log_loss’, ‘deviance’, ‘exponential’], criterion=[‘friedman_mse’, ‘squared_error’]}"
   ]
  },
  {
   "cell_type": "code",
   "execution_count": 46,
   "id": "13291c77",
   "metadata": {
    "execution": {
     "iopub.execute_input": "2022-12-18T17:40:06.410142Z",
     "iopub.status.busy": "2022-12-18T17:40:06.409685Z",
     "iopub.status.idle": "2022-12-18T17:40:06.414874Z",
     "shell.execute_reply": "2022-12-18T17:40:06.413455Z"
    },
    "papermill": {
     "duration": 0.023082,
     "end_time": "2022-12-18T17:40:06.417575",
     "exception": false,
     "start_time": "2022-12-18T17:40:06.394493",
     "status": "completed"
    },
    "tags": []
   },
   "outputs": [],
   "source": [
    "# gv=GridSearchCV(gbc, param_grid=param_grid)\n",
    "# gv.fit(X_train_copy, y_train)\n",
    "# gv.best_params"
   ]
  },
  {
   "cell_type": "code",
   "execution_count": 47,
   "id": "b1a8bb39",
   "metadata": {
    "execution": {
     "iopub.execute_input": "2022-12-18T17:40:06.447140Z",
     "iopub.status.busy": "2022-12-18T17:40:06.446747Z",
     "iopub.status.idle": "2022-12-18T17:40:08.715830Z",
     "shell.execute_reply": "2022-12-18T17:40:08.714806Z"
    },
    "papermill": {
     "duration": 2.287383,
     "end_time": "2022-12-18T17:40:08.718645",
     "exception": false,
     "start_time": "2022-12-18T17:40:06.431262",
     "status": "completed"
    },
    "tags": []
   },
   "outputs": [
    {
     "data": {
      "text/plain": [
       "(5305,)"
      ]
     },
     "execution_count": 47,
     "metadata": {},
     "output_type": "execute_result"
    }
   ],
   "source": [
    "Y_p=abc.predict(X_test)\n",
    "Y_p.shape"
   ]
  },
  {
   "cell_type": "code",
   "execution_count": 48,
   "id": "3547baa8",
   "metadata": {
    "execution": {
     "iopub.execute_input": "2022-12-18T17:40:08.748110Z",
     "iopub.status.busy": "2022-12-18T17:40:08.747704Z",
     "iopub.status.idle": "2022-12-18T17:40:08.754480Z",
     "shell.execute_reply": "2022-12-18T17:40:08.753332Z"
    },
    "papermill": {
     "duration": 0.02413,
     "end_time": "2022-12-18T17:40:08.756681",
     "exception": false,
     "start_time": "2022-12-18T17:40:08.732551",
     "status": "completed"
    },
    "tags": []
   },
   "outputs": [],
   "source": [
    "y_pred=le.inverse_transform(Y_p)\n",
    "pred_id = range(X_test.shape[0])\n",
    "sub = pd.DataFrame(data={'id':pred_id, 'Offer Accepted':y_pred})"
   ]
  },
  {
   "cell_type": "code",
   "execution_count": 49,
   "id": "9e73f75d",
   "metadata": {
    "execution": {
     "iopub.execute_input": "2022-12-18T17:40:08.786588Z",
     "iopub.status.busy": "2022-12-18T17:40:08.786109Z",
     "iopub.status.idle": "2022-12-18T17:40:08.791009Z",
     "shell.execute_reply": "2022-12-18T17:40:08.789711Z"
    },
    "papermill": {
     "duration": 0.022616,
     "end_time": "2022-12-18T17:40:08.793310",
     "exception": false,
     "start_time": "2022-12-18T17:40:08.770694",
     "status": "completed"
    },
    "tags": []
   },
   "outputs": [],
   "source": [
    "#sub"
   ]
  },
  {
   "cell_type": "code",
   "execution_count": 50,
   "id": "be96af70",
   "metadata": {
    "execution": {
     "iopub.execute_input": "2022-12-18T17:40:08.823173Z",
     "iopub.status.busy": "2022-12-18T17:40:08.822424Z",
     "iopub.status.idle": "2022-12-18T17:40:08.836119Z",
     "shell.execute_reply": "2022-12-18T17:40:08.834678Z"
    },
    "papermill": {
     "duration": 0.031567,
     "end_time": "2022-12-18T17:40:08.838853",
     "exception": false,
     "start_time": "2022-12-18T17:40:08.807286",
     "status": "completed"
    },
    "tags": []
   },
   "outputs": [],
   "source": [
    "sub.to_csv('submission.csv',index=False)"
   ]
  },
  {
   "cell_type": "code",
   "execution_count": null,
   "id": "51048a38",
   "metadata": {
    "papermill": {
     "duration": 0.013493,
     "end_time": "2022-12-18T17:40:08.866275",
     "exception": false,
     "start_time": "2022-12-18T17:40:08.852782",
     "status": "completed"
    },
    "tags": []
   },
   "outputs": [],
   "source": []
  }
 ],
 "metadata": {
  "kernelspec": {
   "display_name": "Python 3",
   "language": "python",
   "name": "python3"
  },
  "language_info": {
   "codemirror_mode": {
    "name": "ipython",
    "version": 3
   },
   "file_extension": ".py",
   "mimetype": "text/x-python",
   "name": "python",
   "nbconvert_exporter": "python",
   "pygments_lexer": "ipython3",
   "version": "3.7.12"
  },
  "papermill": {
   "default_parameters": {},
   "duration": 51.502473,
   "end_time": "2022-12-18T17:40:09.703533",
   "environment_variables": {},
   "exception": null,
   "input_path": "__notebook__.ipynb",
   "output_path": "__notebook__.ipynb",
   "parameters": {},
   "start_time": "2022-12-18T17:39:18.201060",
   "version": "2.3.4"
  }
 },
 "nbformat": 4,
 "nbformat_minor": 5
}
